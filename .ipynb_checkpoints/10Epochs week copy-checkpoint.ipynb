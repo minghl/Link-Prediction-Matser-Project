{
 "cells": [
  {
   "cell_type": "code",
   "execution_count": 1,
   "id": "53c339d0",
   "metadata": {},
   "outputs": [],
   "source": [
    "import stellargraph as sg\n",
    "from stellargraph.data import EdgeSplitter\n",
    "from stellargraph.mapper import FullBatchLinkGenerator\n",
    "from stellargraph.layer import GCN, LinkEmbedding\n",
    "import networkx as nx\n",
    "\n",
    "from tensorflow import keras\n",
    "from sklearn import preprocessing, feature_extraction, model_selection\n",
    "\n",
    "from stellargraph import globalvar,StellarGraph\n",
    "from stellargraph import datasets\n",
    "from IPython.display import display, HTML\n",
    "import stellargraph as sg\n",
    "from stellargraph.data import EdgeSplitter\n",
    "from stellargraph.mapper import GraphSAGELinkGenerator\n",
    "from stellargraph.layer import GraphSAGE, HinSAGE, link_classification\n",
    "\n",
    "from tensorflow import keras\n",
    "from sklearn import preprocessing, feature_extraction, model_selection\n",
    "\n",
    "from stellargraph import globalvar\n",
    "from stellargraph import datasets\n",
    "from IPython.display import display, HTML\n",
    "import pandas as pd\n",
    "import numpy as np\n",
    "%matplotlib inline"
   ]
  },
  {
   "cell_type": "code",
   "execution_count": 2,
   "id": "417943c6",
   "metadata": {},
   "outputs": [],
   "source": [
    "g1 = nx.read_graphml(\"2019-12-31.graphml\")\n",
    "g2 = nx.read_graphml(\"2020-01-01.graphml\")\n",
    "g3 = nx.read_graphml(\"2020-01-02.graphml\")\n",
    "g4 = nx.read_graphml(\"2020-01-03.graphml\")\n",
    "g5 = nx.read_graphml(\"2020-01-04.graphml\")\n",
    "g6 = nx.read_graphml(\"2020-01-05.graphml\")\n",
    "g7 = nx.read_graphml(\"2020-01-06.graphml\")\n",
    "g8 = nx.read_graphml(\"2020-01-07.graphml\")\n"
   ]
  },
  {
   "cell_type": "code",
   "execution_count": 3,
   "id": "478930e8",
   "metadata": {},
   "outputs": [],
   "source": [
    "glist = [g2,g3,g4,g5,g6,g7,g8]\n",
    "idx = len(glist)\n"
   ]
  },
  {
   "cell_type": "code",
   "execution_count": 4,
   "id": "4f9b5376",
   "metadata": {},
   "outputs": [],
   "source": [
    "G = nx.Graph()\n",
    "while idx >= 0:\n",
    "    idx -= 1\n",
    "    G = nx.compose(G, glist[idx])\n",
    "    attr_n_tx = {e: G.edges[e]['n_tx'] + glist[idx].edges[e]['n_tx'] for e in G.edges & glist[idx].edges}\n",
    "    nx.set_edge_attributes(G, attr_n_tx, 'n_tx')\n",
    "    attr_value = {e: G.edges[e]['value'] + glist[idx].edges[e]['value'] for e in G.edges & glist[idx].edges}\n",
    "    nx.set_edge_attributes(G, attr_value, 'value')\n",
    "    "
   ]
  },
  {
   "cell_type": "code",
   "execution_count": 5,
   "id": "5bd99a49",
   "metadata": {},
   "outputs": [],
   "source": [
    "def max_min_normalization(G):\n",
    "    n_tx = nx.get_edge_attributes(G, \"n_tx\")\n",
    "    value = nx.get_edge_attributes(G, \"value\")\n",
    "    weight = {}\n",
    "    n_tx_min = min(n_tx.values())\n",
    "    n_tx_max = max(n_tx.values())\n",
    "    value_min = min(value.values())\n",
    "    value_max = max(value.values())\n",
    "    for key in n_tx.keys():\n",
    "        n_tx[key] = (n_tx[key] - n_tx_min)/(n_tx_max - n_tx_min)\n",
    "    for key in value.keys():\n",
    "        value[key] = (value[key] - value_min)/(value_max - value_min)\n",
    "    for key in value.keys():\n",
    "        weight[key] = n_tx[key] * 0.5 + value[key] * 0.5\n",
    "    weight_min = min(weight.values())\n",
    "    weight_max = max(weight.values())\n",
    "    for key in weight.keys():\n",
    "        weight[key] = (weight[key] - weight_min)/(weight_max - weight_min)\n",
    "    nx.set_edge_attributes(G, weight, name=\"weight\")\n",
    "    return weight"
   ]
  },
  {
   "cell_type": "code",
   "execution_count": 6,
   "id": "4c19dccc",
   "metadata": {},
   "outputs": [],
   "source": [
    "#G1 = g1.copy()\n",
    "G2 = G.copy()"
   ]
  },
  {
   "cell_type": "code",
   "execution_count": 7,
   "id": "41f3eaa5",
   "metadata": {},
   "outputs": [],
   "source": [
    "#G1.remove_nodes_from(list(n for n in G1 if n not in G2))\n",
    "G2.remove_nodes_from(list(n for n in G2 if n not in g1))"
   ]
  },
  {
   "cell_type": "code",
   "execution_count": 8,
   "id": "20005131",
   "metadata": {},
   "outputs": [],
   "source": [
    "G.remove_nodes_from(list(n for n in G if n not in g1))\n",
    "G.remove_edges_from(list(n for n in G if n not in g1))"
   ]
  },
  {
   "cell_type": "code",
   "execution_count": 9,
   "id": "e7475b9a",
   "metadata": {},
   "outputs": [],
   "source": [
    "#df_nodes2 = nx.to_pandas_adjacency(G)\n",
    "df_nodes2 = "
   ]
  },
  {
   "cell_type": "code",
   "execution_count": null,
   "id": "a321a992",
   "metadata": {},
   "outputs": [],
   "source": [
    "#df_nodes1 = nx.to_pandas_adjacency(G2)"
   ]
  },
  {
   "cell_type": "code",
   "execution_count": null,
   "id": "d333a7f6",
   "metadata": {
    "scrolled": true
   },
   "outputs": [],
   "source": [
    "max_min_normalization(G2)\n"
   ]
  },
  {
   "cell_type": "code",
   "execution_count": null,
   "id": "c08810d2",
   "metadata": {},
   "outputs": [],
   "source": [
    "max_min_normalization(G)"
   ]
  },
  {
   "cell_type": "code",
   "execution_count": null,
   "id": "c3ce6801",
   "metadata": {},
   "outputs": [],
   "source": [
    "Gs1 = StellarGraph.from_networkx(\n",
    "    G,node_features=df_nodes1\n",
    ")\n",
    "Gs2 = StellarGraph.from_networkx(\n",
    "    G2,node_features=df_nodes2\n",
    ")"
   ]
  },
  {
   "cell_type": "code",
   "execution_count": null,
   "id": "b15d5f34",
   "metadata": {},
   "outputs": [],
   "source": [
    "print(Gs1.info())"
   ]
  },
  {
   "cell_type": "code",
   "execution_count": null,
   "id": "5ca59eb9",
   "metadata": {},
   "outputs": [],
   "source": [
    "print(Gs2.info())"
   ]
  },
  {
   "cell_type": "code",
   "execution_count": null,
   "id": "142f5695",
   "metadata": {},
   "outputs": [],
   "source": [
    "# Define an edge splitter on the original graph G:\n",
    "edge_splitter_test = EdgeSplitter(Gs2)\n",
    "\n",
    "# Randomly sample a fraction p=0.1 of all positive links, and same number of negative links, from G, and obtain the\n",
    "# reduced graph G_test with the sampled links removed:\n",
    "G_test, edge_ids_test, edge_labels_test = edge_splitter_test.train_test_split(\n",
    "    p=0.1, method=\"global\", keep_connected=False\n",
    ")"
   ]
  },
  {
   "cell_type": "code",
   "execution_count": null,
   "id": "f731042e",
   "metadata": {},
   "outputs": [],
   "source": [
    "# Define an edge splitter on the reduced graph G_test:\n",
    "edge_splitter_train = EdgeSplitter(Gs1)\n",
    "\n",
    "# Randomly sample a fraction p=0.1 of all positive links, and same number of negative links, from G_test, and obtain the\n",
    "# reduced graph G_train with the sampled links removed:\n",
    "G_train, edge_ids_train, edge_labels_train = edge_splitter_train.train_test_split(\n",
    "    p=0.1, method=\"global\", keep_connected=False\n",
    ")"
   ]
  },
  {
   "cell_type": "code",
   "execution_count": null,
   "id": "ab011289",
   "metadata": {},
   "outputs": [],
   "source": [
    "batch_size = 10\n",
    "epochs = 10\n",
    "num_samples = [10, 5]"
   ]
  },
  {
   "cell_type": "code",
   "execution_count": null,
   "id": "4962d168",
   "metadata": {},
   "outputs": [],
   "source": [
    "train_gen = GraphSAGELinkGenerator(G_train, batch_size, num_samples)\n",
    "train_flow = train_gen.flow(edge_ids_train, edge_labels_train, shuffle=True)"
   ]
  },
  {
   "cell_type": "code",
   "execution_count": null,
   "id": "b3353884",
   "metadata": {},
   "outputs": [],
   "source": [
    "test_gen = GraphSAGELinkGenerator(G_test, batch_size, num_samples)\n",
    "test_flow = test_gen.flow(edge_ids_test, edge_labels_test)"
   ]
  },
  {
   "cell_type": "code",
   "execution_count": null,
   "id": "55a19037",
   "metadata": {},
   "outputs": [],
   "source": [
    "layer_sizes = [20, 20]\n",
    "graphsage = GraphSAGE(\n",
    "    layer_sizes=layer_sizes, generator=train_gen, bias=True, dropout=0.3\n",
    ")"
   ]
  },
  {
   "cell_type": "code",
   "execution_count": null,
   "id": "0869e307",
   "metadata": {},
   "outputs": [],
   "source": [
    "# Build the model and expose input and output sockets of graphsage model\n",
    "# for link prediction\n",
    "x_inp, x_out = graphsage.in_out_tensors()"
   ]
  },
  {
   "cell_type": "code",
   "execution_count": null,
   "id": "ced40ec4",
   "metadata": {},
   "outputs": [],
   "source": [
    "prediction = link_classification(\n",
    "    output_dim=1, output_act=\"relu\", edge_embedding_method=\"ip\"\n",
    ")(x_out)"
   ]
  },
  {
   "cell_type": "code",
   "execution_count": null,
   "id": "9919d59b",
   "metadata": {},
   "outputs": [],
   "source": [
    "model = keras.Model(inputs=x_inp, outputs=prediction)\n",
    "\n",
    "model.compile(\n",
    "    optimizer=keras.optimizers.Adam(lr=1e-3),\n",
    "    loss=keras.losses.binary_crossentropy,\n",
    "    metrics=[\"acc\"],\n",
    ")"
   ]
  },
  {
   "cell_type": "code",
   "execution_count": null,
   "id": "dac3ab53",
   "metadata": {},
   "outputs": [],
   "source": [
    "init_train_metrics = model.evaluate(train_flow)\n",
    "init_test_metrics = model.evaluate(test_flow)\n",
    "\n",
    "print(\"\\nTrain Set Metrics of the initial (untrained) model:\")\n",
    "for name, val in zip(model.metrics_names, init_train_metrics):\n",
    "    print(\"\\t{}: {:0.4f}\".format(name, val))\n",
    "\n",
    "print(\"\\nTest Set Metrics of the initial (untrained) model:\")\n",
    "for name, val in zip(model.metrics_names, init_test_metrics):\n",
    "    print(\"\\t{}: {:0.4f}\".format(name, val))"
   ]
  },
  {
   "cell_type": "code",
   "execution_count": null,
   "id": "8949bef8",
   "metadata": {},
   "outputs": [],
   "source": [
    "history = model.fit(train_flow, epochs=epochs, validation_data=test_flow, verbose=2)"
   ]
  },
  {
   "cell_type": "code",
   "execution_count": null,
   "id": "f2c990bc",
   "metadata": {},
   "outputs": [],
   "source": [
    "sg.utils.plot_history(history)"
   ]
  },
  {
   "cell_type": "code",
   "execution_count": null,
   "id": "010530ba",
   "metadata": {},
   "outputs": [],
   "source": [
    "train_metrics = model.evaluate(train_flow)\n",
    "test_metrics = model.evaluate(test_flow)\n",
    "\n",
    "print(\"\\nTrain Set Metrics of the trained model:\")\n",
    "for name, val in zip(model.metrics_names, train_metrics):\n",
    "    print(\"\\t{}: {:0.4f}\".format(name, val))\n",
    "\n",
    "print(\"\\nTest Set Metrics of the trained model:\")\n",
    "for name, val in zip(model.metrics_names, test_metrics):\n",
    "    print(\"\\t{}: {:0.4f}\".format(name, val))"
   ]
  },
  {
   "cell_type": "code",
   "execution_count": null,
   "id": "5cfc545b",
   "metadata": {},
   "outputs": [],
   "source": []
  },
  {
   "cell_type": "code",
   "execution_count": null,
   "id": "b2da3b8d",
   "metadata": {},
   "outputs": [],
   "source": []
  },
  {
   "cell_type": "code",
   "execution_count": null,
   "id": "0e67c7ae",
   "metadata": {},
   "outputs": [],
   "source": []
  }
 ],
 "metadata": {
  "kernelspec": {
   "display_name": "Python 3.8 (stellar)",
   "language": "python",
   "name": "tensorflow"
  },
  "language_info": {
   "codemirror_mode": {
    "name": "ipython",
    "version": 3
   },
   "file_extension": ".py",
   "mimetype": "text/x-python",
   "name": "python",
   "nbconvert_exporter": "python",
   "pygments_lexer": "ipython3",
   "version": "3.10.10"
  }
 },
 "nbformat": 4,
 "nbformat_minor": 5
}
