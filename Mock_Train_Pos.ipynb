{
 "cells": [
  {
   "cell_type": "code",
   "execution_count": 17,
   "id": "44e0fafd",
   "metadata": {},
   "outputs": [],
   "source": [
    "import stellargraph as sg\n",
    "from stellargraph.data import EdgeSplitter\n",
    "from stellargraph.mapper import FullBatchLinkGenerator\n",
    "from stellargraph.layer import GCN, LinkEmbedding\n",
    "import networkx as nx\n",
    "\n",
    "from tensorflow import keras\n",
    "from sklearn import preprocessing, feature_extraction, model_selection\n",
    "\n",
    "from stellargraph import globalvar,StellarGraph\n",
    "from stellargraph import datasets\n",
    "from IPython.display import display, HTML\n",
    "import stellargraph as sg\n",
    "from stellargraph.data import EdgeSplitter\n",
    "from stellargraph.mapper import GraphSAGELinkGenerator\n",
    "from stellargraph.layer import GraphSAGE, HinSAGE, link_classification\n",
    "\n",
    "from tensorflow import keras\n",
    "from sklearn import preprocessing, feature_extraction, model_selection\n",
    "\n",
    "from stellargraph import globalvar\n",
    "from stellargraph import datasets\n",
    "from IPython.display import display, HTML\n",
    "import pandas as pd\n",
    "import numpy as np\n",
    "%matplotlib inline"
   ]
  },
  {
   "cell_type": "code",
   "execution_count": 36,
   "id": "dffefdf6",
   "metadata": {},
   "outputs": [],
   "source": [
    "g1 = nx.read_graphml(\"2019-12-31.graphml\")\n",
    "g2 = nx.read_graphml(\"2020-01-01.graphml\")"
   ]
  },
  {
   "cell_type": "code",
   "execution_count": 50,
   "id": "d94dcf53",
   "metadata": {},
   "outputs": [
    {
     "ename": "RuntimeError",
     "evalue": "dictionary changed size during iteration",
     "output_type": "error",
     "traceback": [
      "\u001b[0;31m---------------------------------------------------------------------------\u001b[0m",
      "\u001b[0;31mRuntimeError\u001b[0m                              Traceback (most recent call last)",
      "Cell \u001b[0;32mIn[50], line 3\u001b[0m\n\u001b[1;32m      1\u001b[0m G1 \u001b[38;5;241m=\u001b[39m g1\u001b[38;5;241m.\u001b[39mcopy()\n\u001b[1;32m      2\u001b[0m G2 \u001b[38;5;241m=\u001b[39m g2\u001b[38;5;241m.\u001b[39mcopy()\n\u001b[0;32m----> 3\u001b[0m \u001b[43mG2\u001b[49m\u001b[38;5;241;43m.\u001b[39;49m\u001b[43mremove_nodes_from\u001b[49m\u001b[43m(\u001b[49m\u001b[43mn\u001b[49m\u001b[43m \u001b[49m\u001b[38;5;28;43;01mfor\u001b[39;49;00m\u001b[43m \u001b[49m\u001b[43mn\u001b[49m\u001b[43m \u001b[49m\u001b[38;5;129;43;01min\u001b[39;49;00m\u001b[43m \u001b[49m\u001b[43mG2\u001b[49m\u001b[43m \u001b[49m\u001b[38;5;28;43;01mif\u001b[39;49;00m\u001b[43m \u001b[49m\u001b[43mn\u001b[49m\u001b[43m \u001b[49m\u001b[38;5;129;43;01mnot\u001b[39;49;00m\u001b[43m \u001b[49m\u001b[38;5;129;43;01min\u001b[39;49;00m\u001b[43m \u001b[49m\u001b[43mG1\u001b[49m\u001b[43m)\u001b[49m\n\u001b[1;32m      4\u001b[0m G2\u001b[38;5;241m.\u001b[39mremove_edges_from(e \u001b[38;5;28;01mfor\u001b[39;00m e \u001b[38;5;129;01min\u001b[39;00m G2\u001b[38;5;241m.\u001b[39medges \u001b[38;5;28;01mif\u001b[39;00m e \u001b[38;5;129;01mnot\u001b[39;00m \u001b[38;5;129;01min\u001b[39;00m G1\u001b[38;5;241m.\u001b[39medges)\n",
      "File \u001b[0;32m~/miniconda3/envs/stellar/lib/python3.10/site-packages/networkx/classes/digraph.py:563\u001b[0m, in \u001b[0;36mDiGraph.remove_nodes_from\u001b[0;34m(self, nodes)\u001b[0m\n\u001b[1;32m    539\u001b[0m \u001b[38;5;28;01mdef\u001b[39;00m \u001b[38;5;21mremove_nodes_from\u001b[39m(\u001b[38;5;28mself\u001b[39m, nodes):\n\u001b[1;32m    540\u001b[0m     \u001b[38;5;124;03m\"\"\"Remove multiple nodes.\u001b[39;00m\n\u001b[1;32m    541\u001b[0m \n\u001b[1;32m    542\u001b[0m \u001b[38;5;124;03m    Parameters\u001b[39;00m\n\u001b[0;32m   (...)\u001b[0m\n\u001b[1;32m    561\u001b[0m \n\u001b[1;32m    562\u001b[0m \u001b[38;5;124;03m    \"\"\"\u001b[39;00m\n\u001b[0;32m--> 563\u001b[0m     \u001b[38;5;28;01mfor\u001b[39;00m n \u001b[38;5;129;01min\u001b[39;00m nodes:\n\u001b[1;32m    564\u001b[0m         \u001b[38;5;28;01mtry\u001b[39;00m:\n\u001b[1;32m    565\u001b[0m             succs \u001b[38;5;241m=\u001b[39m \u001b[38;5;28mself\u001b[39m\u001b[38;5;241m.\u001b[39m_succ[n]\n",
      "Cell \u001b[0;32mIn[50], line 3\u001b[0m, in \u001b[0;36m<genexpr>\u001b[0;34m(.0)\u001b[0m\n\u001b[1;32m      1\u001b[0m G1 \u001b[38;5;241m=\u001b[39m g1\u001b[38;5;241m.\u001b[39mcopy()\n\u001b[1;32m      2\u001b[0m G2 \u001b[38;5;241m=\u001b[39m g2\u001b[38;5;241m.\u001b[39mcopy()\n\u001b[0;32m----> 3\u001b[0m G2\u001b[38;5;241m.\u001b[39mremove_nodes_from(n \u001b[38;5;28;01mfor\u001b[39;00m n \u001b[38;5;129;01min\u001b[39;00m G2 \u001b[38;5;28;01mif\u001b[39;00m n \u001b[38;5;129;01mnot\u001b[39;00m \u001b[38;5;129;01min\u001b[39;00m G1)\n\u001b[1;32m      4\u001b[0m G2\u001b[38;5;241m.\u001b[39mremove_edges_from(e \u001b[38;5;28;01mfor\u001b[39;00m e \u001b[38;5;129;01min\u001b[39;00m G2\u001b[38;5;241m.\u001b[39medges \u001b[38;5;28;01mif\u001b[39;00m e \u001b[38;5;129;01mnot\u001b[39;00m \u001b[38;5;129;01min\u001b[39;00m G1\u001b[38;5;241m.\u001b[39medges)\n",
      "\u001b[0;31mRuntimeError\u001b[0m: dictionary changed size during iteration"
     ]
    }
   ],
   "source": [
    "G1 = g1.copy()\n",
    "G2 = g2.copy()\n",
    "G2.remove_nodes_from(n for n in G2 if n not in G1)\n",
    "G2.remove_edges_from(e for e in G2.edges if e not in G1.edges)"
   ]
  },
  {
   "cell_type": "code",
   "execution_count": null,
   "id": "c414f68c",
   "metadata": {},
   "outputs": [],
   "source": []
  },
  {
   "cell_type": "code",
   "execution_count": null,
   "id": "6345c2b5",
   "metadata": {},
   "outputs": [],
   "source": []
  },
  {
   "cell_type": "code",
   "execution_count": 37,
   "id": "823d5aa4",
   "metadata": {},
   "outputs": [],
   "source": [
    "G = nx.intersection(g1, g2)"
   ]
  },
  {
   "cell_type": "code",
   "execution_count": 43,
   "id": "8ad575c9",
   "metadata": {},
   "outputs": [
    {
     "data": {
      "text/plain": [
       "46496"
      ]
     },
     "execution_count": 43,
     "metadata": {},
     "output_type": "execute_result"
    }
   ],
   "source": [
    "subg1 = g1.subgraph(G.nodes())\n",
    "subg2 = g2.subgraph(G.nodes())\n",
    "subg2.number_of_edges()"
   ]
  },
  {
   "cell_type": "code",
   "execution_count": 47,
   "id": "91a00818",
   "metadata": {},
   "outputs": [
    {
     "data": {
      "text/plain": [
       "45663"
      ]
     },
     "execution_count": 47,
     "metadata": {},
     "output_type": "execute_result"
    }
   ],
   "source": [
    "subg2 = nx.Graph(subg2)\n",
    "subg2.number_of_edges()"
   ]
  },
  {
   "cell_type": "code",
   "execution_count": 48,
   "id": "f1fecd47",
   "metadata": {},
   "outputs": [],
   "source": [
    "subg2.remove_edges_from(e for e in subg2.edges if e in subg1.edges)"
   ]
  },
  {
   "cell_type": "code",
   "execution_count": 49,
   "id": "0d3fca47",
   "metadata": {},
   "outputs": [
    {
     "data": {
      "text/plain": [
       "37532"
      ]
     },
     "execution_count": 49,
     "metadata": {},
     "output_type": "execute_result"
    }
   ],
   "source": [
    "subg2.number_of_edges()"
   ]
  },
  {
   "cell_type": "code",
   "execution_count": null,
   "id": "49b3ac9d",
   "metadata": {},
   "outputs": [],
   "source": []
  }
 ],
 "metadata": {
  "kernelspec": {
   "display_name": "Python 3.8 (stellar)",
   "language": "python",
   "name": "tensorflow"
  },
  "language_info": {
   "codemirror_mode": {
    "name": "ipython",
    "version": 3
   },
   "file_extension": ".py",
   "mimetype": "text/x-python",
   "name": "python",
   "nbconvert_exporter": "python",
   "pygments_lexer": "ipython3",
   "version": "3.10.10"
  }
 },
 "nbformat": 4,
 "nbformat_minor": 5
}
