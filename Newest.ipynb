{
 "cells": [
  {
   "cell_type": "code",
   "execution_count": 1,
   "id": "49e66470",
   "metadata": {},
   "outputs": [],
   "source": [
    "import stellargraph as sg\n",
    "from stellargraph.data import EdgeSplitter\n",
    "from stellargraph.mapper import FullBatchLinkGenerator\n",
    "from stellargraph.layer import GCN, LinkEmbedding\n",
    "import networkx as nx\n",
    "\n",
    "from tensorflow import keras\n",
    "from sklearn import preprocessing, feature_extraction, model_selection\n",
    "\n",
    "from stellargraph import globalvar,StellarGraph\n",
    "from stellargraph import datasets\n",
    "from IPython.display import display, HTML\n",
    "import stellargraph as sg\n",
    "from stellargraph.data import EdgeSplitter\n",
    "from stellargraph.mapper import GraphSAGELinkGenerator\n",
    "from stellargraph.layer import GraphSAGE, HinSAGE, link_classification\n",
    "\n",
    "from tensorflow import keras\n",
    "from sklearn import preprocessing, feature_extraction, model_selection\n",
    "\n",
    "from stellargraph import globalvar\n",
    "from stellargraph import datasets\n",
    "from IPython.display import display, HTML\n",
    "import pandas as pd\n",
    "import numpy as np\n",
    "%matplotlib inline"
   ]
  },
  {
   "cell_type": "markdown",
   "id": "acb615b5",
   "metadata": {},
   "source": [
    "1. 引入数据"
   ]
  },
  {
   "cell_type": "code",
   "execution_count": 5,
   "id": "35ba3d5a",
   "metadata": {},
   "outputs": [],
   "source": [
    "g1 = nx.read_graphml(\"2019-12-31.graphml\")\n",
    "g2 = nx.read_graphml(\"2020-01-01.graphml\")"
   ]
  },
  {
   "cell_type": "markdown",
   "id": "30f6ab49",
   "metadata": {},
   "source": []
  },
  {
   "cell_type": "code",
   "execution_count": 3,
   "id": "121c0f31",
   "metadata": {},
   "outputs": [],
   "source": [
    "nx.set_edge_attributes(nx_graph, nx.get_edge_attributes(nx_graph, \"n_tx\"), name=\"weight\")"
   ]
  },
  {
   "cell_type": "code",
   "execution_count": 4,
   "id": "e0d7cee3",
   "metadata": {},
   "outputs": [],
   "source": []
  },
  {
   "cell_type": "code",
   "execution_count": null,
   "id": "898fc4cf",
   "metadata": {},
   "outputs": [],
   "source": []
  }
 ],
 "metadata": {
  "kernelspec": {
   "display_name": "Python 3.8 (stellar)",
   "language": "python",
   "name": "tensorflow"
  },
  "language_info": {
   "codemirror_mode": {
    "name": "ipython",
    "version": 3
   },
   "file_extension": ".py",
   "mimetype": "text/x-python",
   "name": "python",
   "nbconvert_exporter": "python",
   "pygments_lexer": "ipython3",
   "version": "3.10.10"
  }
 },
 "nbformat": 4,
 "nbformat_minor": 5
}
