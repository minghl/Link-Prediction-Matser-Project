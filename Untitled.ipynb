{
 "cells": [
  {
   "cell_type": "code",
   "execution_count": 1,
   "id": "e49503cb",
   "metadata": {},
   "outputs": [],
   "source": [
    "import stellargraph as sg\n",
    "from stellargraph.data import EdgeSplitter\n",
    "from stellargraph.mapper import FullBatchLinkGenerator\n",
    "from stellargraph.layer import GCN, LinkEmbedding\n",
    "import networkx as nx\n",
    "\n",
    "from tensorflow import keras\n",
    "from sklearn import preprocessing, feature_extraction, model_selection\n",
    "\n",
    "from stellargraph import globalvar,StellarGraph\n",
    "from stellargraph import datasets\n",
    "from IPython.display import display, HTML\n",
    "import stellargraph as sg\n",
    "from stellargraph.data import EdgeSplitter\n",
    "from stellargraph.mapper import GraphSAGELinkGenerator\n",
    "from stellargraph.layer import GraphSAGE, HinSAGE, link_classification\n",
    "\n",
    "from tensorflow import keras\n",
    "from sklearn import preprocessing, feature_extraction, model_selection\n",
    "\n",
    "from stellargraph import globalvar\n",
    "from stellargraph import datasets\n",
    "from IPython.display import display, HTML\n",
    "import pandas as pd\n",
    "import numpy as np\n",
    "%matplotlib inline"
   ]
  },
  {
   "cell_type": "code",
   "execution_count": 2,
   "id": "8908ae4e",
   "metadata": {},
   "outputs": [],
   "source": [
    "nx_graph = nx.read_graphml(\"2012-12-02.graphml\")"
   ]
  },
  {
   "cell_type": "code",
   "execution_count": 3,
   "id": "315d8838",
   "metadata": {},
   "outputs": [],
   "source": [
    "nx.set_edge_attributes(nx_graph, nx.get_edge_attributes(nx_graph, \"n_tx\"), name=\"weight\")"
   ]
  },
  {
   "cell_type": "code",
   "execution_count": 5,
   "id": "bb85e7df",
   "metadata": {},
   "outputs": [],
   "source": [
    "df_nodes = nx.to_pandas_adjacency(nx_graph)"
   ]
  },
  {
   "cell_type": "code",
   "execution_count": 7,
   "id": "69e800e8",
   "metadata": {},
   "outputs": [],
   "source": [
    "Gs = StellarGraph.from_networkx(\n",
    "    nx_graph,node_features=df_nodes\n",
    ")"
   ]
  },
  {
   "cell_type": "code",
   "execution_count": 8,
   "id": "0eddc6d7",
   "metadata": {},
   "outputs": [
    {
     "name": "stdout",
     "output_type": "stream",
     "text": [
      "StellarDiGraph: Directed multigraph\n",
      " Nodes: 13093, Edges: 24867\n",
      "\n",
      " Node types:\n",
      "  default: [13093]\n",
      "    Features: float32 vector, length 13093\n",
      "    Edge types: default-default->default\n",
      "\n",
      " Edge types:\n",
      "    default-default->default: [24867]\n",
      "        Weights: range=[1, 682], mean=1.44497, std=9.47669\n",
      "        Features: none\n"
     ]
    }
   ],
   "source": [
    "print(Gs.info())"
   ]
  },
  {
   "cell_type": "code",
   "execution_count": 9,
   "id": "c51a9e71",
   "metadata": {},
   "outputs": [
    {
     "name": "stdout",
     "output_type": "stream",
     "text": [
      "** Sampled 2486 positive and 2486 negative edges. **\n"
     ]
    }
   ],
   "source": [
    "# Define an edge splitter on the original graph G:\n",
    "edge_splitter_test = EdgeSplitter(Gs)\n",
    "\n",
    "# Randomly sample a fraction p=0.1 of all positive links, and same number of negative links, from G, and obtain the\n",
    "# reduced graph G_test with the sampled links removed:\n",
    "G_test, edge_ids_test, edge_labels_test = edge_splitter_test.train_test_split(\n",
    "    p=0.1, method=\"global\", keep_connected=False\n",
    ")"
   ]
  },
  {
   "cell_type": "code",
   "execution_count": 10,
   "id": "5b84006a",
   "metadata": {},
   "outputs": [
    {
     "name": "stdout",
     "output_type": "stream",
     "text": [
      "** Sampled 2238 positive and 2238 negative edges. **\n"
     ]
    }
   ],
   "source": [
    "# Define an edge splitter on the reduced graph G_test:\n",
    "edge_splitter_train = EdgeSplitter(G_test)\n",
    "\n",
    "# Randomly sample a fraction p=0.1 of all positive links, and same number of negative links, from G_test, and obtain the\n",
    "# reduced graph G_train with the sampled links removed:\n",
    "G_train, edge_ids_train, edge_labels_train = edge_splitter_train.train_test_split(\n",
    "    p=0.1, method=\"global\", keep_connected=False\n",
    ")"
   ]
  },
  {
   "cell_type": "code",
   "execution_count": 11,
   "id": "58c2ce84",
   "metadata": {},
   "outputs": [],
   "source": [
    "batch_size = 20\n",
    "epochs = 20\n",
    "num_samples = [20, 10]"
   ]
  },
  {
   "cell_type": "code",
   "execution_count": 12,
   "id": "40dded1b",
   "metadata": {},
   "outputs": [],
   "source": [
    "train_gen = GraphSAGELinkGenerator(G_train, batch_size, num_samples)\n",
    "train_flow = train_gen.flow(edge_ids_train, edge_labels_train, shuffle=True)"
   ]
  },
  {
   "cell_type": "code",
   "execution_count": 13,
   "id": "901455e5",
   "metadata": {},
   "outputs": [],
   "source": [
    "test_gen = GraphSAGELinkGenerator(G_test, batch_size, num_samples)\n",
    "test_flow = test_gen.flow(edge_ids_test, edge_labels_test)"
   ]
  },
  {
   "cell_type": "code",
   "execution_count": 14,
   "id": "8d74fb6f",
   "metadata": {},
   "outputs": [],
   "source": [
    "layer_sizes = [20, 20]\n",
    "graphsage = GraphSAGE(\n",
    "    layer_sizes=layer_sizes, generator=train_gen, bias=True, dropout=0.3\n",
    ")"
   ]
  },
  {
   "cell_type": "code",
   "execution_count": 15,
   "id": "379887c9",
   "metadata": {},
   "outputs": [
    {
     "name": "stderr",
     "output_type": "stream",
     "text": [
      "/Users/liminghao/miniconda3/envs/stellar/lib/python3.10/site-packages/keras/initializers/initializers_v2.py:120: UserWarning: The initializer GlorotUniform is unseeded and being called multiple times, which will return identical values  each time (even if the initializer is unseeded). Please update your code to provide a seed to the initializer, or avoid using the same initalizer instance more than once.\n",
      "  warnings.warn(\n"
     ]
    }
   ],
   "source": [
    "# Build the model and expose input and output sockets of graphsage model\n",
    "# for link prediction\n",
    "x_inp, x_out = graphsage.in_out_tensors()"
   ]
  },
  {
   "cell_type": "code",
   "execution_count": 16,
   "id": "28fa7371",
   "metadata": {},
   "outputs": [
    {
     "name": "stdout",
     "output_type": "stream",
     "text": [
      "link_classification: using 'ip' method to combine node embeddings into edge embeddings\n"
     ]
    }
   ],
   "source": [
    "prediction = link_classification(\n",
    "    output_dim=1, output_act=\"relu\", edge_embedding_method=\"ip\"\n",
    ")(x_out)"
   ]
  },
  {
   "cell_type": "code",
   "execution_count": 17,
   "id": "9152d914",
   "metadata": {},
   "outputs": [
    {
     "name": "stderr",
     "output_type": "stream",
     "text": [
      "WARNING:absl:`lr` is deprecated, please use `learning_rate` instead, or use the legacy optimizer, e.g.,tf.keras.optimizers.legacy.Adam.\n"
     ]
    }
   ],
   "source": [
    "model = keras.Model(inputs=x_inp, outputs=prediction)\n",
    "\n",
    "model.compile(\n",
    "    optimizer=keras.optimizers.Adam(lr=1e-3),\n",
    "    loss=keras.losses.binary_crossentropy,\n",
    "    metrics=[\"acc\"],\n",
    ")"
   ]
  },
  {
   "cell_type": "code",
   "execution_count": 18,
   "id": "659d0e6a",
   "metadata": {},
   "outputs": [
    {
     "name": "stderr",
     "output_type": "stream",
     "text": [
      "2023-05-03 20:07:42.494868: W tensorflow/tsl/platform/profile_utils/cpu_utils.cc:128] Failed to get CPU frequency: 0 Hz\n"
     ]
    },
    {
     "name": "stdout",
     "output_type": "stream",
     "text": [
      "224/224 [==============================] - 57s 253ms/step - loss: 2.4915 - acc: 0.5726\n",
      "249/249 [==============================] - 55s 222ms/step - loss: 2.4770 - acc: 0.5617\n",
      "\n",
      "Train Set Metrics of the initial (untrained) model:\n",
      "\tloss: 2.4915\n",
      "\tacc: 0.5726\n",
      "\n",
      "Test Set Metrics of the initial (untrained) model:\n",
      "\tloss: 2.4770\n",
      "\tacc: 0.5617\n"
     ]
    }
   ],
   "source": [
    "init_train_metrics = model.evaluate(train_flow)\n",
    "init_test_metrics = model.evaluate(test_flow)\n",
    "\n",
    "print(\"\\nTrain Set Metrics of the initial (untrained) model:\")\n",
    "for name, val in zip(model.metrics_names, init_train_metrics):\n",
    "    print(\"\\t{}: {:0.4f}\".format(name, val))\n",
    "\n",
    "print(\"\\nTest Set Metrics of the initial (untrained) model:\")\n",
    "for name, val in zip(model.metrics_names, init_test_metrics):\n",
    "    print(\"\\t{}: {:0.4f}\".format(name, val))"
   ]
  },
  {
   "cell_type": "code",
   "execution_count": 19,
   "id": "cf3d184f",
   "metadata": {},
   "outputs": [
    {
     "name": "stdout",
     "output_type": "stream",
     "text": [
      "Epoch 1/20\n",
      "224/224 - 157s - loss: 0.8128 - acc: 0.6667 - val_loss: 0.6644 - val_acc: 0.6796 - 157s/epoch - 701ms/step\n",
      "Epoch 2/20\n",
      "224/224 - 144s - loss: 0.5562 - acc: 0.7386 - val_loss: 0.6560 - val_acc: 0.7287 - 144s/epoch - 645ms/step\n",
      "Epoch 3/20\n",
      "224/224 - 138s - loss: 0.4446 - acc: 0.8101 - val_loss: 0.6998 - val_acc: 0.7432 - 138s/epoch - 615ms/step\n",
      "Epoch 4/20\n",
      "224/224 - 139s - loss: 0.4062 - acc: 0.8273 - val_loss: 0.7181 - val_acc: 0.7277 - 139s/epoch - 623ms/step\n",
      "Epoch 5/20\n",
      "224/224 - 148s - loss: 0.3921 - acc: 0.8400 - val_loss: 0.7595 - val_acc: 0.7412 - 148s/epoch - 662ms/step\n",
      "Epoch 6/20\n",
      "224/224 - 161s - loss: 0.3522 - acc: 0.8521 - val_loss: 0.7769 - val_acc: 0.7444 - 161s/epoch - 721ms/step\n",
      "Epoch 7/20\n",
      "224/224 - 164s - loss: 0.3388 - acc: 0.8653 - val_loss: 0.8442 - val_acc: 0.7265 - 164s/epoch - 730ms/step\n",
      "Epoch 8/20\n",
      "224/224 - 162s - loss: 0.3172 - acc: 0.8773 - val_loss: 0.8193 - val_acc: 0.7204 - 162s/epoch - 723ms/step\n",
      "Epoch 9/20\n",
      "224/224 - 148s - loss: 0.3342 - acc: 0.8791 - val_loss: 0.8942 - val_acc: 0.7357 - 148s/epoch - 662ms/step\n",
      "Epoch 10/20\n",
      "224/224 - 145s - loss: 0.3064 - acc: 0.8825 - val_loss: 0.9446 - val_acc: 0.7416 - 145s/epoch - 649ms/step\n",
      "Epoch 11/20\n",
      "224/224 - 135s - loss: 0.3522 - acc: 0.8622 - val_loss: 0.8697 - val_acc: 0.7301 - 135s/epoch - 602ms/step\n",
      "Epoch 12/20\n",
      "224/224 - 138s - loss: 0.3184 - acc: 0.8854 - val_loss: 0.8393 - val_acc: 0.7321 - 138s/epoch - 615ms/step\n",
      "Epoch 13/20\n",
      "224/224 - 136s - loss: 0.4124 - acc: 0.8771 - val_loss: 0.8386 - val_acc: 0.7212 - 136s/epoch - 607ms/step\n",
      "Epoch 14/20\n",
      "224/224 - 136s - loss: 0.3052 - acc: 0.8780 - val_loss: 0.9445 - val_acc: 0.7228 - 136s/epoch - 607ms/step\n",
      "Epoch 15/20\n",
      "224/224 - 141s - loss: 0.2837 - acc: 0.8939 - val_loss: 0.9436 - val_acc: 0.7210 - 141s/epoch - 630ms/step\n",
      "Epoch 16/20\n",
      "224/224 - 138s - loss: 0.2842 - acc: 0.8928 - val_loss: 0.9266 - val_acc: 0.7307 - 138s/epoch - 617ms/step\n",
      "Epoch 17/20\n",
      "224/224 - 139s - loss: 0.2718 - acc: 0.8945 - val_loss: 0.9064 - val_acc: 0.7241 - 139s/epoch - 621ms/step\n",
      "Epoch 18/20\n",
      "224/224 - 141s - loss: 0.2703 - acc: 0.8981 - val_loss: 0.9428 - val_acc: 0.7259 - 141s/epoch - 630ms/step\n",
      "Epoch 19/20\n",
      "224/224 - 5131s - loss: 0.2375 - acc: 0.9097 - val_loss: 0.9859 - val_acc: 0.7313 - 5131s/epoch - 23s/step\n",
      "Epoch 20/20\n",
      "224/224 - 15422s - loss: 0.2419 - acc: 0.9142 - val_loss: 1.0204 - val_acc: 0.7331 - 15422s/epoch - 69s/step\n"
     ]
    }
   ],
   "source": [
    "history = model.fit(train_flow, epochs=epochs, validation_data=test_flow, verbose=2)"
   ]
  },
  {
   "cell_type": "code",
   "execution_count": 20,
   "id": "45c96a26",
   "metadata": {},
   "outputs": [
    {
     "data": {
      "image/png": "[encoded data removed]",
      "text/plain": [
       "<Figure size 700x800 with 2 Axes>"
      ]
     },
     "metadata": {},
     "output_type": "display_data"
    }
   ],
   "source": [
    "sg.utils.plot_history(history)"
   ]
  },
  {
   "cell_type": "code",
   "execution_count": 21,
   "id": "aea00be4",
   "metadata": {},
   "outputs": [
    {
     "name": "stdout",
     "output_type": "stream",
     "text": [
      "224/224 [==============================] - 64s 284ms/step - loss: 0.2189 - acc: 0.9287\n",
      "249/249 [==============================] - 63s 253ms/step - loss: 1.0211 - acc: 0.7347\n",
      "\n",
      "Train Set Metrics of the trained model:\n",
      "\tloss: 0.2189\n",
      "\tacc: 0.9287\n",
      "\n",
      "Test Set Metrics of the trained model:\n",
      "\tloss: 1.0211\n",
      "\tacc: 0.7347\n"
     ]
    }
   ],
   "source": [
    "train_metrics = model.evaluate(train_flow)\n",
    "test_metrics = model.evaluate(test_flow)\n",
    "\n",
    "print(\"\\nTrain Set Metrics of the trained model:\")\n",
    "for name, val in zip(model.metrics_names, train_metrics):\n",
    "    print(\"\\t{}: {:0.4f}\".format(name, val))\n",
    "\n",
    "print(\"\\nTest Set Metrics of the trained model:\")\n",
    "for name, val in zip(model.metrics_names, test_metrics):\n",
    "    print(\"\\t{}: {:0.4f}\".format(name, val))"
   ]
  },
  {
   "cell_type": "code",
   "execution_count": null,
   "id": "72a311ed",
   "metadata": {},
   "outputs": [],
   "source": []
  }
 ],
 "metadata": {
  "kernelspec": {
   "display_name": "Python 3.8 (stellar)",
   "language": "python",
   "name": "tensorflow"
  },
  "language_info": {
   "codemirror_mode": {
    "name": "ipython",
    "version": 3
   },
   "file_extension": ".py",
   "mimetype": "text/x-python",
   "name": "python",
   "nbconvert_exporter": "python",
   "pygments_lexer": "ipython3",
   "version": "3.10.10"
  }
 },
 "nbformat": 4,
 "nbformat_minor": 5
}
