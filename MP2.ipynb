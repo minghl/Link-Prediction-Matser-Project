{
 "cells": [
  {
   "cell_type": "code",
   "execution_count": 1,
   "id": "61c153bc",
   "metadata": {},
   "outputs": [],
   "source": [
    "import stellargraph as sg\n",
    "from stellargraph.data import EdgeSplitter\n",
    "from stellargraph.mapper import FullBatchLinkGenerator\n",
    "from stellargraph.layer import GCN, LinkEmbedding\n",
    "import networkx as nx\n",
    "\n",
    "from tensorflow import keras\n",
    "from sklearn import preprocessing, feature_extraction, model_selection\n",
    "\n",
    "from stellargraph import globalvar,StellarGraph\n",
    "from stellargraph import datasets\n",
    "from IPython.display import display, HTML\n",
    "import stellargraph as sg\n",
    "from stellargraph.data import EdgeSplitter\n",
    "from stellargraph.mapper import GraphSAGELinkGenerator\n",
    "from stellargraph.layer import GraphSAGE, HinSAGE, link_classification\n",
    "\n",
    "from tensorflow import keras\n",
    "from sklearn import preprocessing, feature_extraction, model_selection\n",
    "\n",
    "from stellargraph import globalvar\n",
    "from stellargraph import datasets\n",
    "from IPython.display import display, HTML\n",
    "import pandas as pd\n",
    "import numpy as np\n",
    "%matplotlib inline"
   ]
  },
  {
   "cell_type": "code",
   "execution_count": 2,
   "id": "65f3dc57",
   "metadata": {},
   "outputs": [],
   "source": [
    "nx_graph = nx.read_graphml(\"2012-12-02.graphml\")"
   ]
  },
  {
   "cell_type": "code",
   "execution_count": 3,
   "id": "52667fa4",
   "metadata": {},
   "outputs": [
    {
     "data": {
      "text/plain": [
       "False"
      ]
     },
     "execution_count": 3,
     "metadata": {},
     "output_type": "execute_result"
    }
   ],
   "source": [
    "nx.is_weighted(nx_graph)"
   ]
  },
  {
   "cell_type": "code",
   "execution_count": 88,
   "id": "342a494d",
   "metadata": {},
   "outputs": [],
   "source": [
    "nx.set_edge_attributes(nx_graph, nx.get_edge_attributes(nx_graph, \"n_tx\"), name=\"weight\")"
   ]
  },
  {
   "cell_type": "code",
   "execution_count": 89,
   "id": "d22fff25",
   "metadata": {},
   "outputs": [],
   "source": [
    "pr = nx.pagerank(nx_graph, alpha=0.9)\n",
    "my_df = pd.DataFrame(pr,index=[0]).T"
   ]
  },
  {
   "cell_type": "code",
   "execution_count": 90,
   "id": "7dafa21e",
   "metadata": {},
   "outputs": [],
   "source": [
    "nx.set_node_attributes(nx_graph, pr,'pr')"
   ]
  },
  {
   "cell_type": "code",
   "execution_count": 139,
   "id": "35df8be9",
   "metadata": {},
   "outputs": [
    {
     "data": {
      "text/html": [
       "<div>\n",
       "<style scoped>\n",
       "    .dataframe tbody tr th:only-of-type {\n",
       "        vertical-align: middle;\n",
       "    }\n",
       "\n",
       "    .dataframe tbody tr th {\n",
       "        vertical-align: top;\n",
       "    }\n",
       "\n",
       "    .dataframe thead th {\n",
       "        text-align: right;\n",
       "    }\n",
       "</style>\n",
       "<table border=\"1\" class=\"dataframe\">\n",
       "  <thead>\n",
       "    <tr style=\"text-align: right;\">\n",
       "      <th></th>\n",
       "      <th>degree</th>\n",
       "    </tr>\n",
       "  </thead>\n",
       "  <tbody>\n",
       "    <tr>\n",
       "      <th>81567039</th>\n",
       "      <td>2</td>\n",
       "    </tr>\n",
       "    <tr>\n",
       "      <th>81567155</th>\n",
       "      <td>3</td>\n",
       "    </tr>\n",
       "    <tr>\n",
       "      <th>81567156</th>\n",
       "      <td>1</td>\n",
       "    </tr>\n",
       "    <tr>\n",
       "      <th>81526809</th>\n",
       "      <td>2</td>\n",
       "    </tr>\n",
       "    <tr>\n",
       "      <th>79800777</th>\n",
       "      <td>1138</td>\n",
       "    </tr>\n",
       "    <tr>\n",
       "      <th>...</th>\n",
       "      <td>...</td>\n",
       "    </tr>\n",
       "    <tr>\n",
       "      <th>81573964</th>\n",
       "      <td>3</td>\n",
       "    </tr>\n",
       "    <tr>\n",
       "      <th>81573965</th>\n",
       "      <td>3</td>\n",
       "    </tr>\n",
       "    <tr>\n",
       "      <th>81573966</th>\n",
       "      <td>4</td>\n",
       "    </tr>\n",
       "    <tr>\n",
       "      <th>81573967</th>\n",
       "      <td>3</td>\n",
       "    </tr>\n",
       "    <tr>\n",
       "      <th>81573968</th>\n",
       "      <td>1</td>\n",
       "    </tr>\n",
       "  </tbody>\n",
       "</table>\n",
       "<p>13093 rows × 1 columns</p>\n",
       "</div>"
      ],
      "text/plain": [
       "          degree\n",
       "81567039       2\n",
       "81567155       3\n",
       "81567156       1\n",
       "81526809       2\n",
       "79800777    1138\n",
       "...          ...\n",
       "81573964       3\n",
       "81573965       3\n",
       "81573966       4\n",
       "81573967       3\n",
       "81573968       1\n",
       "\n",
       "[13093 rows x 1 columns]"
      ]
     },
     "execution_count": 139,
     "metadata": {},
     "output_type": "execute_result"
    }
   ],
   "source": [
    "dg = dict(nx.degree(nx_graph))\n",
    "data = pd.DataFrame(dg,index=[0]).T\n",
    "data.columns = ['degree']\n",
    "data"
   ]
  },
  {
   "cell_type": "code",
   "execution_count": 140,
   "id": "be70190b",
   "metadata": {},
   "outputs": [
    {
     "data": {
      "text/html": [
       "<div>\n",
       "<style scoped>\n",
       "    .dataframe tbody tr th:only-of-type {\n",
       "        vertical-align: middle;\n",
       "    }\n",
       "\n",
       "    .dataframe tbody tr th {\n",
       "        vertical-align: top;\n",
       "    }\n",
       "\n",
       "    .dataframe thead th {\n",
       "        text-align: right;\n",
       "    }\n",
       "</style>\n",
       "<table border=\"1\" class=\"dataframe\">\n",
       "  <thead>\n",
       "    <tr style=\"text-align: right;\">\n",
       "      <th></th>\n",
       "      <th>ntx</th>\n",
       "    </tr>\n",
       "  </thead>\n",
       "  <tbody>\n",
       "    <tr>\n",
       "      <th>81567039</th>\n",
       "      <td>2</td>\n",
       "    </tr>\n",
       "    <tr>\n",
       "      <th>81567155</th>\n",
       "      <td>3</td>\n",
       "    </tr>\n",
       "    <tr>\n",
       "      <th>81567156</th>\n",
       "      <td>1</td>\n",
       "    </tr>\n",
       "    <tr>\n",
       "      <th>81526809</th>\n",
       "      <td>2</td>\n",
       "    </tr>\n",
       "    <tr>\n",
       "      <th>79800777</th>\n",
       "      <td>1654</td>\n",
       "    </tr>\n",
       "    <tr>\n",
       "      <th>...</th>\n",
       "      <td>...</td>\n",
       "    </tr>\n",
       "    <tr>\n",
       "      <th>81573964</th>\n",
       "      <td>3</td>\n",
       "    </tr>\n",
       "    <tr>\n",
       "      <th>81573965</th>\n",
       "      <td>3</td>\n",
       "    </tr>\n",
       "    <tr>\n",
       "      <th>81573966</th>\n",
       "      <td>4</td>\n",
       "    </tr>\n",
       "    <tr>\n",
       "      <th>81573967</th>\n",
       "      <td>3</td>\n",
       "    </tr>\n",
       "    <tr>\n",
       "      <th>81573968</th>\n",
       "      <td>1</td>\n",
       "    </tr>\n",
       "  </tbody>\n",
       "</table>\n",
       "<p>13093 rows × 1 columns</p>\n",
       "</div>"
      ],
      "text/plain": [
       "           ntx\n",
       "81567039     2\n",
       "81567155     3\n",
       "81567156     1\n",
       "81526809     2\n",
       "79800777  1654\n",
       "...        ...\n",
       "81573964     3\n",
       "81573965     3\n",
       "81573966     4\n",
       "81573967     3\n",
       "81573968     1\n",
       "\n",
       "[13093 rows x 1 columns]"
      ]
     },
     "execution_count": 140,
     "metadata": {},
     "output_type": "execute_result"
    }
   ],
   "source": [
    "ntx = dict(nx.degree(nx_graph,weight=\"n_tx\"))\n",
    "data2 = pd.DataFrame(ntx,index=[0]).T\n",
    "data2.columns = ['ntx']\n",
    "data2"
   ]
  },
  {
   "cell_type": "code",
   "execution_count": 141,
   "id": "1fe98930",
   "metadata": {},
   "outputs": [
    {
     "data": {
      "text/html": [
       "<div>\n",
       "<style scoped>\n",
       "    .dataframe tbody tr th:only-of-type {\n",
       "        vertical-align: middle;\n",
       "    }\n",
       "\n",
       "    .dataframe tbody tr th {\n",
       "        vertical-align: top;\n",
       "    }\n",
       "\n",
       "    .dataframe thead th {\n",
       "        text-align: right;\n",
       "    }\n",
       "</style>\n",
       "<table border=\"1\" class=\"dataframe\">\n",
       "  <thead>\n",
       "    <tr style=\"text-align: right;\">\n",
       "      <th></th>\n",
       "      <th>value</th>\n",
       "    </tr>\n",
       "  </thead>\n",
       "  <tbody>\n",
       "    <tr>\n",
       "      <th>81567039</th>\n",
       "      <td>1.139281e+12</td>\n",
       "    </tr>\n",
       "    <tr>\n",
       "      <th>81567155</th>\n",
       "      <td>2.278358e+12</td>\n",
       "    </tr>\n",
       "    <tr>\n",
       "      <th>81567156</th>\n",
       "      <td>1.019400e+08</td>\n",
       "    </tr>\n",
       "    <tr>\n",
       "      <th>81526809</th>\n",
       "      <td>5.304041e+09</td>\n",
       "    </tr>\n",
       "    <tr>\n",
       "      <th>79800777</th>\n",
       "      <td>2.802200e+12</td>\n",
       "    </tr>\n",
       "    <tr>\n",
       "      <th>...</th>\n",
       "      <td>...</td>\n",
       "    </tr>\n",
       "    <tr>\n",
       "      <th>81573964</th>\n",
       "      <td>9.272836e+07</td>\n",
       "    </tr>\n",
       "    <tr>\n",
       "      <th>81573965</th>\n",
       "      <td>8.432836e+07</td>\n",
       "    </tr>\n",
       "    <tr>\n",
       "      <th>81573966</th>\n",
       "      <td>9.721941e+07</td>\n",
       "    </tr>\n",
       "    <tr>\n",
       "      <th>81573967</th>\n",
       "      <td>6.767836e+07</td>\n",
       "    </tr>\n",
       "    <tr>\n",
       "      <th>81573968</th>\n",
       "      <td>3.281418e+07</td>\n",
       "    </tr>\n",
       "  </tbody>\n",
       "</table>\n",
       "<p>13093 rows × 1 columns</p>\n",
       "</div>"
      ],
      "text/plain": [
       "                 value\n",
       "81567039  1.139281e+12\n",
       "81567155  2.278358e+12\n",
       "81567156  1.019400e+08\n",
       "81526809  5.304041e+09\n",
       "79800777  2.802200e+12\n",
       "...                ...\n",
       "81573964  9.272836e+07\n",
       "81573965  8.432836e+07\n",
       "81573966  9.721941e+07\n",
       "81573967  6.767836e+07\n",
       "81573968  3.281418e+07\n",
       "\n",
       "[13093 rows x 1 columns]"
      ]
     },
     "execution_count": 141,
     "metadata": {},
     "output_type": "execute_result"
    }
   ],
   "source": [
    "ntx = dict(nx.degree(nx_graph,weight=\"value\"))\n",
    "data3 = pd.DataFrame(ntx,index=[0]).T\n",
    "data3.columns = ['value']\n",
    "data3"
   ]
  },
  {
   "cell_type": "code",
   "execution_count": 142,
   "id": "1430771f",
   "metadata": {},
   "outputs": [
    {
     "data": {
      "text/html": [
       "<div>\n",
       "<style scoped>\n",
       "    .dataframe tbody tr th:only-of-type {\n",
       "        vertical-align: middle;\n",
       "    }\n",
       "\n",
       "    .dataframe tbody tr th {\n",
       "        vertical-align: top;\n",
       "    }\n",
       "\n",
       "    .dataframe thead th {\n",
       "        text-align: right;\n",
       "    }\n",
       "</style>\n",
       "<table border=\"1\" class=\"dataframe\">\n",
       "  <thead>\n",
       "    <tr style=\"text-align: right;\">\n",
       "      <th></th>\n",
       "      <th>pr</th>\n",
       "    </tr>\n",
       "  </thead>\n",
       "  <tbody>\n",
       "    <tr>\n",
       "      <th>81567039</th>\n",
       "      <td>0.000031</td>\n",
       "    </tr>\n",
       "    <tr>\n",
       "      <th>81567155</th>\n",
       "      <td>0.000045</td>\n",
       "    </tr>\n",
       "    <tr>\n",
       "      <th>81567156</th>\n",
       "      <td>0.000045</td>\n",
       "    </tr>\n",
       "    <tr>\n",
       "      <th>81526809</th>\n",
       "      <td>0.000031</td>\n",
       "    </tr>\n",
       "    <tr>\n",
       "      <th>79800777</th>\n",
       "      <td>0.033700</td>\n",
       "    </tr>\n",
       "    <tr>\n",
       "      <th>...</th>\n",
       "      <td>...</td>\n",
       "    </tr>\n",
       "    <tr>\n",
       "      <th>81573964</th>\n",
       "      <td>0.000056</td>\n",
       "    </tr>\n",
       "    <tr>\n",
       "      <th>81573965</th>\n",
       "      <td>0.000056</td>\n",
       "    </tr>\n",
       "    <tr>\n",
       "      <th>81573966</th>\n",
       "      <td>0.000066</td>\n",
       "    </tr>\n",
       "    <tr>\n",
       "      <th>81573967</th>\n",
       "      <td>0.000061</td>\n",
       "    </tr>\n",
       "    <tr>\n",
       "      <th>81573968</th>\n",
       "      <td>0.000058</td>\n",
       "    </tr>\n",
       "  </tbody>\n",
       "</table>\n",
       "<p>13093 rows × 1 columns</p>\n",
       "</div>"
      ],
      "text/plain": [
       "                pr\n",
       "81567039  0.000031\n",
       "81567155  0.000045\n",
       "81567156  0.000045\n",
       "81526809  0.000031\n",
       "79800777  0.033700\n",
       "...            ...\n",
       "81573964  0.000056\n",
       "81573965  0.000056\n",
       "81573966  0.000066\n",
       "81573967  0.000061\n",
       "81573968  0.000058\n",
       "\n",
       "[13093 rows x 1 columns]"
      ]
     },
     "execution_count": 142,
     "metadata": {},
     "output_type": "execute_result"
    }
   ],
   "source": [
    "ntx = dict(nx.get_node_attributes(nx_graph,'pr'))\n",
    "data4 = pd.DataFrame(ntx,index=[0]).T\n",
    "data4.columns = ['pr']\n",
    "data4"
   ]
  },
  {
   "cell_type": "code",
   "execution_count": 143,
   "id": "37af7c1b",
   "metadata": {},
   "outputs": [],
   "source": [
    "frames = [data,data2,data3,data4]"
   ]
  },
  {
   "cell_type": "code",
   "execution_count": 144,
   "id": "0da4f272",
   "metadata": {},
   "outputs": [],
   "source": [
    "result = pd.concat(frames)"
   ]
  },
  {
   "cell_type": "code",
   "execution_count": 145,
   "id": "dbfd6ff6",
   "metadata": {},
   "outputs": [],
   "source": [
    "a = data.join(data3,how='outer')"
   ]
  },
  {
   "cell_type": "code",
   "execution_count": 147,
   "id": "5ff2a18f",
   "metadata": {},
   "outputs": [
    {
     "data": {
      "text/html": [
       "<div>\n",
       "<style scoped>\n",
       "    .dataframe tbody tr th:only-of-type {\n",
       "        vertical-align: middle;\n",
       "    }\n",
       "\n",
       "    .dataframe tbody tr th {\n",
       "        vertical-align: top;\n",
       "    }\n",
       "\n",
       "    .dataframe thead th {\n",
       "        text-align: right;\n",
       "    }\n",
       "</style>\n",
       "<table border=\"1\" class=\"dataframe\">\n",
       "  <thead>\n",
       "    <tr style=\"text-align: right;\">\n",
       "      <th></th>\n",
       "      <th>degree</th>\n",
       "      <th>value</th>\n",
       "    </tr>\n",
       "  </thead>\n",
       "  <tbody>\n",
       "    <tr>\n",
       "      <th>81567039</th>\n",
       "      <td>2</td>\n",
       "      <td>1.139281e+12</td>\n",
       "    </tr>\n",
       "    <tr>\n",
       "      <th>81567155</th>\n",
       "      <td>3</td>\n",
       "      <td>2.278358e+12</td>\n",
       "    </tr>\n",
       "    <tr>\n",
       "      <th>81567156</th>\n",
       "      <td>1</td>\n",
       "      <td>1.019400e+08</td>\n",
       "    </tr>\n",
       "    <tr>\n",
       "      <th>81526809</th>\n",
       "      <td>2</td>\n",
       "      <td>5.304041e+09</td>\n",
       "    </tr>\n",
       "    <tr>\n",
       "      <th>79800777</th>\n",
       "      <td>1138</td>\n",
       "      <td>2.802200e+12</td>\n",
       "    </tr>\n",
       "    <tr>\n",
       "      <th>...</th>\n",
       "      <td>...</td>\n",
       "      <td>...</td>\n",
       "    </tr>\n",
       "    <tr>\n",
       "      <th>81573964</th>\n",
       "      <td>3</td>\n",
       "      <td>9.272836e+07</td>\n",
       "    </tr>\n",
       "    <tr>\n",
       "      <th>81573965</th>\n",
       "      <td>3</td>\n",
       "      <td>8.432836e+07</td>\n",
       "    </tr>\n",
       "    <tr>\n",
       "      <th>81573966</th>\n",
       "      <td>4</td>\n",
       "      <td>9.721941e+07</td>\n",
       "    </tr>\n",
       "    <tr>\n",
       "      <th>81573967</th>\n",
       "      <td>3</td>\n",
       "      <td>6.767836e+07</td>\n",
       "    </tr>\n",
       "    <tr>\n",
       "      <th>81573968</th>\n",
       "      <td>1</td>\n",
       "      <td>3.281418e+07</td>\n",
       "    </tr>\n",
       "  </tbody>\n",
       "</table>\n",
       "<p>13093 rows × 2 columns</p>\n",
       "</div>"
      ],
      "text/plain": [
       "          degree         value\n",
       "81567039       2  1.139281e+12\n",
       "81567155       3  2.278358e+12\n",
       "81567156       1  1.019400e+08\n",
       "81526809       2  5.304041e+09\n",
       "79800777    1138  2.802200e+12\n",
       "...          ...           ...\n",
       "81573964       3  9.272836e+07\n",
       "81573965       3  8.432836e+07\n",
       "81573966       4  9.721941e+07\n",
       "81573967       3  6.767836e+07\n",
       "81573968       1  3.281418e+07\n",
       "\n",
       "[13093 rows x 2 columns]"
      ]
     },
     "execution_count": 147,
     "metadata": {},
     "output_type": "execute_result"
    }
   ],
   "source": [
    "a"
   ]
  },
  {
   "cell_type": "code",
   "execution_count": 149,
   "id": "65349afc",
   "metadata": {},
   "outputs": [],
   "source": [
    "b= a.join(data2, how='outer')"
   ]
  },
  {
   "cell_type": "code",
   "execution_count": 151,
   "id": "eeac0310",
   "metadata": {},
   "outputs": [],
   "source": [
    "c = b.join(data4,how='outer')"
   ]
  },
  {
   "cell_type": "code",
   "execution_count": 152,
   "id": "93fcd05f",
   "metadata": {},
   "outputs": [
    {
     "data": {
      "text/html": [
       "<div>\n",
       "<style scoped>\n",
       "    .dataframe tbody tr th:only-of-type {\n",
       "        vertical-align: middle;\n",
       "    }\n",
       "\n",
       "    .dataframe tbody tr th {\n",
       "        vertical-align: top;\n",
       "    }\n",
       "\n",
       "    .dataframe thead th {\n",
       "        text-align: right;\n",
       "    }\n",
       "</style>\n",
       "<table border=\"1\" class=\"dataframe\">\n",
       "  <thead>\n",
       "    <tr style=\"text-align: right;\">\n",
       "      <th></th>\n",
       "      <th>degree</th>\n",
       "      <th>value</th>\n",
       "      <th>ntx</th>\n",
       "      <th>pr</th>\n",
       "    </tr>\n",
       "  </thead>\n",
       "  <tbody>\n",
       "    <tr>\n",
       "      <th>81567039</th>\n",
       "      <td>2</td>\n",
       "      <td>1.139281e+12</td>\n",
       "      <td>2</td>\n",
       "      <td>0.000031</td>\n",
       "    </tr>\n",
       "    <tr>\n",
       "      <th>81567155</th>\n",
       "      <td>3</td>\n",
       "      <td>2.278358e+12</td>\n",
       "      <td>3</td>\n",
       "      <td>0.000045</td>\n",
       "    </tr>\n",
       "    <tr>\n",
       "      <th>81567156</th>\n",
       "      <td>1</td>\n",
       "      <td>1.019400e+08</td>\n",
       "      <td>1</td>\n",
       "      <td>0.000045</td>\n",
       "    </tr>\n",
       "    <tr>\n",
       "      <th>81526809</th>\n",
       "      <td>2</td>\n",
       "      <td>5.304041e+09</td>\n",
       "      <td>2</td>\n",
       "      <td>0.000031</td>\n",
       "    </tr>\n",
       "    <tr>\n",
       "      <th>79800777</th>\n",
       "      <td>1138</td>\n",
       "      <td>2.802200e+12</td>\n",
       "      <td>1654</td>\n",
       "      <td>0.033700</td>\n",
       "    </tr>\n",
       "    <tr>\n",
       "      <th>...</th>\n",
       "      <td>...</td>\n",
       "      <td>...</td>\n",
       "      <td>...</td>\n",
       "      <td>...</td>\n",
       "    </tr>\n",
       "    <tr>\n",
       "      <th>81573964</th>\n",
       "      <td>3</td>\n",
       "      <td>9.272836e+07</td>\n",
       "      <td>3</td>\n",
       "      <td>0.000056</td>\n",
       "    </tr>\n",
       "    <tr>\n",
       "      <th>81573965</th>\n",
       "      <td>3</td>\n",
       "      <td>8.432836e+07</td>\n",
       "      <td>3</td>\n",
       "      <td>0.000056</td>\n",
       "    </tr>\n",
       "    <tr>\n",
       "      <th>81573966</th>\n",
       "      <td>4</td>\n",
       "      <td>9.721941e+07</td>\n",
       "      <td>4</td>\n",
       "      <td>0.000066</td>\n",
       "    </tr>\n",
       "    <tr>\n",
       "      <th>81573967</th>\n",
       "      <td>3</td>\n",
       "      <td>6.767836e+07</td>\n",
       "      <td>3</td>\n",
       "      <td>0.000061</td>\n",
       "    </tr>\n",
       "    <tr>\n",
       "      <th>81573968</th>\n",
       "      <td>1</td>\n",
       "      <td>3.281418e+07</td>\n",
       "      <td>1</td>\n",
       "      <td>0.000058</td>\n",
       "    </tr>\n",
       "  </tbody>\n",
       "</table>\n",
       "<p>13093 rows × 4 columns</p>\n",
       "</div>"
      ],
      "text/plain": [
       "          degree         value   ntx        pr\n",
       "81567039       2  1.139281e+12     2  0.000031\n",
       "81567155       3  2.278358e+12     3  0.000045\n",
       "81567156       1  1.019400e+08     1  0.000045\n",
       "81526809       2  5.304041e+09     2  0.000031\n",
       "79800777    1138  2.802200e+12  1654  0.033700\n",
       "...          ...           ...   ...       ...\n",
       "81573964       3  9.272836e+07     3  0.000056\n",
       "81573965       3  8.432836e+07     3  0.000056\n",
       "81573966       4  9.721941e+07     4  0.000066\n",
       "81573967       3  6.767836e+07     3  0.000061\n",
       "81573968       1  3.281418e+07     1  0.000058\n",
       "\n",
       "[13093 rows x 4 columns]"
      ]
     },
     "execution_count": 152,
     "metadata": {},
     "output_type": "execute_result"
    }
   ],
   "source": [
    "c"
   ]
  },
  {
   "cell_type": "code",
   "execution_count": 153,
   "id": "ee56e019",
   "metadata": {},
   "outputs": [],
   "source": [
    "Gs = StellarGraph.from_networkx(\n",
    "    nx_graph,node_features=c\n",
    ")"
   ]
  },
  {
   "cell_type": "code",
   "execution_count": 154,
   "id": "aff52fb4",
   "metadata": {},
   "outputs": [
    {
     "name": "stdout",
     "output_type": "stream",
     "text": [
      "StellarDiGraph: Directed multigraph\n",
      " Nodes: 13093, Edges: 24867\n",
      "\n",
      " Node types:\n",
      "  default: [13093]\n",
      "    Features: float32 vector, length 4\n",
      "    Edge types: default-default->default\n",
      "\n",
      " Edge types:\n",
      "    default-default->default: [24867]\n",
      "        Weights: range=[1, 682], mean=1.44497, std=9.47669\n",
      "        Features: none\n"
     ]
    }
   ],
   "source": [
    "print(Gs.info())"
   ]
  },
  {
   "cell_type": "code",
   "execution_count": 155,
   "id": "5aed219e",
   "metadata": {},
   "outputs": [
    {
     "name": "stdout",
     "output_type": "stream",
     "text": [
      "** Sampled 2486 positive and 2486 negative edges. **\n"
     ]
    }
   ],
   "source": [
    "# Define an edge splitter on the original graph G:\n",
    "edge_splitter_test = EdgeSplitter(Gs)\n",
    "\n",
    "# Randomly sample a fraction p=0.1 of all positive links, and same number of negative links, from G, and obtain the\n",
    "# reduced graph G_test with the sampled links removed:\n",
    "G_test, edge_ids_test, edge_labels_test = edge_splitter_test.train_test_split(\n",
    "    p=0.1, method=\"global\", keep_connected=False\n",
    ")"
   ]
  },
  {
   "cell_type": "code",
   "execution_count": 156,
   "id": "d22b07a5",
   "metadata": {},
   "outputs": [
    {
     "name": "stdout",
     "output_type": "stream",
     "text": [
      "** Sampled 2238 positive and 2238 negative edges. **\n"
     ]
    }
   ],
   "source": [
    "# Define an edge splitter on the reduced graph G_test:\n",
    "edge_splitter_train = EdgeSplitter(G_test)\n",
    "\n",
    "# Randomly sample a fraction p=0.1 of all positive links, and same number of negative links, from G_test, and obtain the\n",
    "# reduced graph G_train with the sampled links removed:\n",
    "G_train, edge_ids_train, edge_labels_train = edge_splitter_train.train_test_split(\n",
    "    p=0.1, method=\"global\", keep_connected=False\n",
    ")"
   ]
  },
  {
   "cell_type": "code",
   "execution_count": 157,
   "id": "6b2635a0",
   "metadata": {},
   "outputs": [],
   "source": [
    "batch_size = 20\n",
    "epochs = 20\n",
    "num_samples = [20, 10]"
   ]
  },
  {
   "cell_type": "code",
   "execution_count": 158,
   "id": "ba88db5a",
   "metadata": {},
   "outputs": [],
   "source": [
    "train_gen = GraphSAGELinkGenerator(G_train, batch_size, num_samples)\n",
    "train_flow = train_gen.flow(edge_ids_train, edge_labels_train, shuffle=True)"
   ]
  },
  {
   "cell_type": "code",
   "execution_count": 159,
   "id": "decd37ea",
   "metadata": {},
   "outputs": [],
   "source": [
    "test_gen = GraphSAGELinkGenerator(G_test, batch_size, num_samples)\n",
    "test_flow = test_gen.flow(edge_ids_test, edge_labels_test)"
   ]
  },
  {
   "cell_type": "code",
   "execution_count": 160,
   "id": "e43bed8b",
   "metadata": {},
   "outputs": [],
   "source": [
    "layer_sizes = [20, 20]\n",
    "graphsage = GraphSAGE(\n",
    "    layer_sizes=layer_sizes, generator=train_gen, bias=True, dropout=0.3\n",
    ")"
   ]
  },
  {
   "cell_type": "code",
   "execution_count": 161,
   "id": "ce17e8ce",
   "metadata": {},
   "outputs": [
    {
     "name": "stderr",
     "output_type": "stream",
     "text": [
      "/Users/liminghao/miniconda3/envs/stellar/lib/python3.10/site-packages/keras/initializers/initializers_v2.py:120: UserWarning: The initializer GlorotUniform is unseeded and being called multiple times, which will return identical values  each time (even if the initializer is unseeded). Please update your code to provide a seed to the initializer, or avoid using the same initalizer instance more than once.\n",
      "  warnings.warn(\n"
     ]
    }
   ],
   "source": [
    "# Build the model and expose input and output sockets of graphsage model\n",
    "# for link prediction\n",
    "x_inp, x_out = graphsage.in_out_tensors()"
   ]
  },
  {
   "cell_type": "code",
   "execution_count": 162,
   "id": "5de1fb12",
   "metadata": {},
   "outputs": [
    {
     "name": "stdout",
     "output_type": "stream",
     "text": [
      "link_classification: using 'ip' method to combine node embeddings into edge embeddings\n"
     ]
    }
   ],
   "source": [
    "prediction = link_classification(\n",
    "    output_dim=1, output_act=\"relu\", edge_embedding_method=\"ip\"\n",
    ")(x_out)"
   ]
  },
  {
   "cell_type": "code",
   "execution_count": 163,
   "id": "dfe4a9e0",
   "metadata": {},
   "outputs": [
    {
     "name": "stderr",
     "output_type": "stream",
     "text": [
      "WARNING:absl:`lr` is deprecated, please use `learning_rate` instead, or use the legacy optimizer, e.g.,tf.keras.optimizers.legacy.Adam.\n"
     ]
    }
   ],
   "source": [
    "model = keras.Model(inputs=x_inp, outputs=prediction)\n",
    "\n",
    "model.compile(\n",
    "    optimizer=keras.optimizers.Adam(lr=1e-3),\n",
    "    loss=keras.losses.binary_crossentropy,\n",
    "    metrics=[\"acc\"],\n",
    ")"
   ]
  },
  {
   "cell_type": "code",
   "execution_count": 164,
   "id": "09b3d224",
   "metadata": {},
   "outputs": [
    {
     "name": "stdout",
     "output_type": "stream",
     "text": [
      "224/224 [==============================] - 3s 10ms/step - loss: 2.5641 - acc: 0.4888\n",
      "249/249 [==============================] - 3s 10ms/step - loss: 2.6305 - acc: 0.4783\n",
      "\n",
      "Train Set Metrics of the initial (untrained) model:\n",
      "\tloss: 2.5641\n",
      "\tacc: 0.4888\n",
      "\n",
      "Test Set Metrics of the initial (untrained) model:\n",
      "\tloss: 2.6305\n",
      "\tacc: 0.4783\n"
     ]
    }
   ],
   "source": [
    "init_train_metrics = model.evaluate(train_flow)\n",
    "init_test_metrics = model.evaluate(test_flow)\n",
    "\n",
    "print(\"\\nTrain Set Metrics of the initial (untrained) model:\")\n",
    "for name, val in zip(model.metrics_names, init_train_metrics):\n",
    "    print(\"\\t{}: {:0.4f}\".format(name, val))\n",
    "\n",
    "print(\"\\nTest Set Metrics of the initial (untrained) model:\")\n",
    "for name, val in zip(model.metrics_names, init_test_metrics):\n",
    "    print(\"\\t{}: {:0.4f}\".format(name, val))"
   ]
  },
  {
   "cell_type": "code",
   "execution_count": 165,
   "id": "ad6738da",
   "metadata": {},
   "outputs": [
    {
     "name": "stdout",
     "output_type": "stream",
     "text": [
      "Epoch 1/20\n",
      "224/224 - 5s - loss: 1.3116 - acc: 0.4696 - val_loss: 1.5247 - val_acc: 0.4743 - 5s/epoch - 22ms/step\n",
      "Epoch 2/20\n",
      "224/224 - 4s - loss: 1.0783 - acc: 0.4810 - val_loss: 1.5122 - val_acc: 0.4887 - 4s/epoch - 19ms/step\n",
      "Epoch 3/20\n",
      "224/224 - 4s - loss: 1.0729 - acc: 0.4754 - val_loss: 1.5386 - val_acc: 0.4966 - 4s/epoch - 19ms/step\n",
      "Epoch 4/20\n",
      "224/224 - 4s - loss: 1.0215 - acc: 0.4864 - val_loss: 1.5303 - val_acc: 0.4956 - 4s/epoch - 19ms/step\n",
      "Epoch 5/20\n",
      "224/224 - 4s - loss: 1.0474 - acc: 0.4855 - val_loss: 1.5457 - val_acc: 0.4916 - 4s/epoch - 19ms/step\n",
      "Epoch 6/20\n",
      "224/224 - 4s - loss: 1.0037 - acc: 0.4828 - val_loss: 1.5138 - val_acc: 0.4920 - 4s/epoch - 19ms/step\n",
      "Epoch 7/20\n",
      "224/224 - 4s - loss: 1.0276 - acc: 0.4832 - val_loss: 1.5131 - val_acc: 0.4899 - 4s/epoch - 19ms/step\n",
      "Epoch 8/20\n",
      "224/224 - 4s - loss: 1.0123 - acc: 0.4893 - val_loss: 1.5256 - val_acc: 0.4962 - 4s/epoch - 20ms/step\n",
      "Epoch 9/20\n",
      "224/224 - 4s - loss: 1.0495 - acc: 0.4864 - val_loss: 1.5345 - val_acc: 0.4950 - 4s/epoch - 20ms/step\n",
      "Epoch 10/20\n",
      "224/224 - 5s - loss: 1.0118 - acc: 0.4949 - val_loss: 1.5271 - val_acc: 0.4944 - 5s/epoch - 20ms/step\n",
      "Epoch 11/20\n",
      "224/224 - 5s - loss: 0.9626 - acc: 0.4895 - val_loss: 1.5311 - val_acc: 0.4968 - 5s/epoch - 20ms/step\n",
      "Epoch 12/20\n",
      "224/224 - 5s - loss: 1.0092 - acc: 0.4937 - val_loss: 1.5232 - val_acc: 0.5030 - 5s/epoch - 20ms/step\n",
      "Epoch 13/20\n",
      "224/224 - 5s - loss: 0.9572 - acc: 0.4933 - val_loss: 1.5414 - val_acc: 0.5004 - 5s/epoch - 21ms/step\n",
      "Epoch 14/20\n",
      "224/224 - 5s - loss: 1.0012 - acc: 0.4839 - val_loss: 1.5295 - val_acc: 0.4986 - 5s/epoch - 21ms/step\n",
      "Epoch 15/20\n",
      "224/224 - 4s - loss: 1.0026 - acc: 0.4701 - val_loss: 1.5595 - val_acc: 0.4926 - 4s/epoch - 19ms/step\n",
      "Epoch 16/20\n",
      "224/224 - 5s - loss: 0.9665 - acc: 0.4926 - val_loss: 1.5132 - val_acc: 0.4952 - 5s/epoch - 20ms/step\n",
      "Epoch 17/20\n",
      "224/224 - 4s - loss: 0.9682 - acc: 0.4942 - val_loss: 1.5176 - val_acc: 0.4988 - 4s/epoch - 20ms/step\n",
      "Epoch 18/20\n",
      "224/224 - 4s - loss: 0.9908 - acc: 0.4830 - val_loss: 1.5124 - val_acc: 0.4988 - 4s/epoch - 20ms/step\n",
      "Epoch 19/20\n",
      "224/224 - 5s - loss: 0.9624 - acc: 0.4788 - val_loss: 1.5522 - val_acc: 0.4873 - 5s/epoch - 20ms/step\n",
      "Epoch 20/20\n",
      "224/224 - 4s - loss: 0.9658 - acc: 0.4761 - val_loss: 1.5269 - val_acc: 0.4897 - 4s/epoch - 19ms/step\n"
     ]
    }
   ],
   "source": [
    "history = model.fit(train_flow, epochs=epochs, validation_data=test_flow, verbose=2)"
   ]
  },
  {
   "cell_type": "code",
   "execution_count": null,
   "id": "452d5f2a",
   "metadata": {},
   "outputs": [],
   "source": []
  },
  {
   "cell_type": "code",
   "execution_count": null,
   "id": "d09fcdc1",
   "metadata": {},
   "outputs": [],
   "source": []
  }
 ],
 "metadata": {
  "kernelspec": {
   "display_name": "Python 3.8 (stellar)",
   "language": "python",
   "name": "tensorflow"
  },
  "language_info": {
   "codemirror_mode": {
    "name": "ipython",
    "version": 3
   },
   "file_extension": ".py",
   "mimetype": "text/x-python",
   "name": "python",
   "nbconvert_exporter": "python",
   "pygments_lexer": "ipython3",
   "version": "3.10.10"
  }
 },
 "nbformat": 4,
 "nbformat_minor": 5
}
